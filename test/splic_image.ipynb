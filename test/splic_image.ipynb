{
 "cells": [
  {
   "cell_type": "code",
   "execution_count": 1,
   "metadata": {},
   "outputs": [],
   "source": [
    "import PIL\n",
    "import numpy as np\n",
    "import torch\n",
    "from PIL import Image\n",
    "from matplotlib import pyplot as plt\n",
    "from torchvision.transforms import Compose, Resize, CenterCrop, Normalize, ToTensor\n",
    "from einops import rearrange, repeat\n",
    "from einops.layers.torch import Rearrange, Reduce"
   ]
  },
  {
   "cell_type": "code",
   "execution_count": 8,
   "metadata": {},
   "outputs": [
    {
     "name": "stdout",
     "output_type": "stream",
     "text": [
      "(256, 256, 3)\n",
      "torch.Size([16, 64, 64, 3])\n"
     ]
    }
   ],
   "source": [
    "image = Image.open(\"../image/butterfly.png\")\n",
    "image_np = np.array(image)\n",
    "print(image_np.shape)\n",
    "image_tr = torch.from_numpy(image_np)\n",
    "image_tr = rearrange(image_tr, \"(i Ph) (j Pw) c -> (i j) Ph Pw c\", Ph=64, Pw=64)\n",
    "print(image_tr.shape)\n",
    "image_np_list = [image_tr[i].numpy() for i in range(image_tr.size(0))]\n",
    "for i in range(len(image_np_list)):\n",
    "    img = Image.fromarray(image_np_list[i])\n",
    "    img.save(f'./vit/{i}.png')"
   ]
  },
  {
   "cell_type": "code",
   "execution_count": 9,
   "metadata": {},
   "outputs": [
    {
     "name": "stdout",
     "output_type": "stream",
     "text": [
      "(256, 256, 3)\n",
      "torch.Size([16, 64, 64, 3])\n"
     ]
    }
   ],
   "source": [
    "image = Image.open(\"../image/butterfly.png\")\n",
    "image_np = np.array(image)\n",
    "print(image_np.shape)\n",
    "image_tr = torch.from_numpy(image_np)\n",
    "image_tr = rearrange(image_tr, \"(Ph i) (Pw j) c -> (i j) Ph Pw c\", Ph=64, Pw=64)\n",
    "print(image_tr.shape)\n",
    "image_np_list = [image_tr[i].numpy() for i in range(image_tr.size(0))]\n",
    "for i in range(len(image_np_list)):\n",
    "    img = Image.fromarray(image_np_list[i])\n",
    "    img.save(f'./omni/{i}.png')"
   ]
  }
 ],
 "metadata": {
  "kernelspec": {
   "display_name": "pytorch_cuda",
   "language": "python",
   "name": "python3"
  },
  "language_info": {
   "codemirror_mode": {
    "name": "ipython",
    "version": 3
   },
   "file_extension": ".py",
   "mimetype": "text/x-python",
   "name": "python",
   "nbconvert_exporter": "python",
   "pygments_lexer": "ipython3",
   "version": "3.10.13"
  }
 },
 "nbformat": 4,
 "nbformat_minor": 2
}
