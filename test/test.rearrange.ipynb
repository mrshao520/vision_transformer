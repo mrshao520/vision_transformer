{
 "cells": [
  {
   "cell_type": "code",
   "execution_count": 1,
   "metadata": {},
   "outputs": [],
   "source": [
    "import PIL\n",
    "import numpy as np\n",
    "import torch\n",
    "from PIL import Image\n",
    "from matplotlib import pyplot as plt\n",
    "from torchvision.transforms import Compose, Resize, CenterCrop, Normalize, ToTensor\n",
    "from einops import rearrange, repeat\n",
    "from einops.layers.torch import Rearrange, Reduce"
   ]
  },
  {
   "cell_type": "code",
   "execution_count": 2,
   "metadata": {},
   "outputs": [],
   "source": [
    "def window_partition(x, window_size):\n",
    "    \"\"\"\n",
    "    Args:\n",
    "        x: (b, h, w, c)\n",
    "        window_size (int): window size\n",
    "\n",
    "    Returns:\n",
    "        windows: (num_windows*b, window_size, window_size, c)\n",
    "    \"\"\"\n",
    "    b, h, w, c = x.shape\n",
    "    x = x.view(b, h // window_size, window_size, w // window_size, window_size, c)\n",
    "    windows = (\n",
    "        x.permute(0, 1, 3, 2, 4, 5).contiguous().view(-1, window_size, window_size, c)\n",
    "    )\n",
    "    return windows"
   ]
  },
  {
   "cell_type": "code",
   "execution_count": 10,
   "metadata": {},
   "outputs": [
    {
     "name": "stdout",
     "output_type": "stream",
     "text": [
      "True\n",
      "tensor([ True, False])\n",
      "False\n"
     ]
    }
   ],
   "source": [
    "x = torch.randn((1, 3, 64, 64))\n",
    "y = window_partition(x.permute(0, 2, 3, 1), 8)\n",
    "z = rearrange(x, \"b c (x Wh) (y Ww) -> (b x y) Wh Ww c\", Wh=8, Ww=8)\n",
    "print(y.equal(z))\n",
    "x = torch.tensor([0, 1])\n",
    "y = torch.tensor([0, 0])\n",
    "print(x == y)\n",
    "print(x.equal(y))"
   ]
  },
  {
   "cell_type": "code",
   "execution_count": 13,
   "metadata": {},
   "outputs": [
    {
     "name": "stdout",
     "output_type": "stream",
     "text": [
      "True\n",
      "True\n"
     ]
    }
   ],
   "source": [
    "x = torch.randn((1, 3, 64, 64))\n",
    "y = window_partition(x.permute(0, 2, 3, 1), 8)\n",
    "z = rearrange(x, \"b c (x Wh) (y Ww) -> (b x y) Wh Ww c\", Wh=8, Ww=8)\n",
    "print(y.equal(z))\n",
    "y = y.view(-1, 8*8, 3)\n",
    "w = rearrange(x, \"b c (x Wh) (y Ww) -> (b x y) (Wh Ww) c\", Wh=8, Ww=8)\n",
    "print(y.equal(w))"
   ]
  }
 ],
 "metadata": {
  "kernelspec": {
   "display_name": "pytorch_cuda",
   "language": "python",
   "name": "python3"
  },
  "language_info": {
   "codemirror_mode": {
    "name": "ipython",
    "version": 3
   },
   "file_extension": ".py",
   "mimetype": "text/x-python",
   "name": "python",
   "nbconvert_exporter": "python",
   "pygments_lexer": "ipython3",
   "version": "3.10.13"
  }
 },
 "nbformat": 4,
 "nbformat_minor": 2
}
